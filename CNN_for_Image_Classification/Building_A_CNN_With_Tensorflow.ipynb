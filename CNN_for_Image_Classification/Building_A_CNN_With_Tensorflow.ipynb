{
 "cells": [
  {
   "cell_type": "code",
   "execution_count": 3,
   "id": "f5205503",
   "metadata": {},
   "outputs": [],
   "source": [
    "# Building a CNN with Tensorflow Part 1: Obtaining data\n",
    "# Download MNIST dataset, Examine images, Examine Labels"
   ]
  },
  {
   "cell_type": "code",
   "execution_count": 37,
   "id": "2a41747e",
   "metadata": {},
   "outputs": [
    {
     "name": "stdout",
     "output_type": "stream",
     "text": [
      "Epochs: 1, Train Loss: 0.13274455070495605, Train accuracy: 0.9595833420753479, Test loss: 0.06550385802984238 Test accuracy: 0.9786999821662903\n",
      "Epochs: 2, Train Loss: 0.0417109951376915, Train accuracy: 0.9873833060264587, Test loss: 0.05325184389948845 Test accuracy: 0.980400025844574\n",
      "Epochs: 3, Train Loss: 0.020738651975989342, Train accuracy: 0.9935666918754578, Test loss: 0.06374231725931168 Test accuracy: 0.9802333116531372\n",
      "Epochs: 4, Train Loss: 0.013872558251023293, Train accuracy: 0.9957833290100098, Test loss: 0.06036638841032982 Test accuracy: 0.9806749820709229\n",
      "Epochs: 5, Train Loss: 0.009140145033597946, Train accuracy: 0.996999979019165, Test loss: 0.061156030744314194 Test accuracy: 0.9813200235366821\n"
     ]
    }
   ],
   "source": [
    "import tensorflow as tf\n",
    "import matplotlib.pyplot as plt\n",
    "mnist = tf.keras.datasets.mnist\n",
    "(x_train, y_train), (x_test, y_test) = mnist.load_data()\n",
    "# Part 2a Layers Convolution, flatten layer, dense layer\n",
    "from tensorflow.keras.layers import Conv2D, Flatten, Dense\n",
    "from tensorflow.keras import Model\n",
    "# Part 5 Formatting Data\n",
    "x_train, x_test = x_train/255.0, x_test/255.0\n",
    "x_train = x_train[..., tf.newaxis]\n",
    "x_test = x_test[..., tf.newaxis]\n",
    "\n",
    "# Shuffle Data\n",
    "train_data = tf.data.Dataset.from_tensor_slices((x_train, y_train)).shuffle(10000).batch(32)\n",
    "test_data = tf.data.Dataset.from_tensor_slices((x_test, y_test)).batch(32)\n",
    "# Conv2D(filters, kernel_size, activation)\n",
    "# Flatten()\n",
    "# Dense(neurons, activation)\n",
    "# Part 2b Layers practical (build model)\n",
    "class MNISTModel(Model):\n",
    "    def __init__(self):\n",
    "        super(MNISTModel, self).__init__()\n",
    "        self.conv1 = Conv2D(32, 3, activation='relu')\n",
    "        self.flatten = Flatten()\n",
    "        self.dense1 = Dense(128, activation='relu')\n",
    "        self.dense2 = Dense(10, activation='softmax')\n",
    "        \n",
    "    def call(self, x):\n",
    "        x1 = self.conv1(x)\n",
    "        x2 = self.flatten(x1)\n",
    "        x3 = self.dense1(x2)\n",
    "        return self.dense2(x3)\n",
    "# Part 3 Loss and optimizer\n",
    "\n",
    "loss_function = tf.keras.losses.SparseCategoricalCrossentropy()\n",
    "optimizer = tf.keras.optimizers.Adam()\n",
    "train_loss = tf.keras.metrics.Mean(name='train_loss')\n",
    "train_accuracy = tf.keras.metrics.SparseCategoricalAccuracy(name='train_accuracy')\n",
    "test_loss = tf.keras.metrics.Mean(name='test_loss')\n",
    "test_accuracy = tf.keras.metrics.SparseCategoricalAccuracy(name='test_accuracy')\n",
    "# Part 4 Implement Train and Test steps\n",
    "model = MNISTModel()\n",
    "@tf.function\n",
    "def train_step(inputs, outputs):\n",
    "    with tf.GradientTape() as tape:\n",
    "        predictions = model(inputs)\n",
    "        loss = loss_function(outputs, predictions)\n",
    "    gradients = tape.gradient(loss, model.trainable_variables)\n",
    "    optimizer.apply_gradients(zip(gradients, model.trainable_variables))\n",
    "    train_loss(loss)\n",
    "    train_accuracy(outputs, predictions)\n",
    "    \n",
    "\n",
    "@tf.function\n",
    "def test_step(inputs, outputs):\n",
    "    predictions = model(inputs)\n",
    "    loss = loss_function(outputs, predictions)\n",
    "    test_loss(loss)\n",
    "    test_accuracy(outputs, predictions)\n",
    "\n",
    "# Part 6 Training and evaluation\n",
    "epochs = 5\n",
    "\n",
    "for epoch in range(epochs):\n",
    "    for train_inputs, train_labels in train_data:\n",
    "        train_step(train_inputs, train_labels)\n",
    "    for test_inputs, test_labels in test_data:\n",
    "        test_step(test_inputs, test_labels)\n",
    "        \n",
    "    template = 'Epochs: {}, Train Loss: {}, Train accuracy: {}, Test loss: {} Test accuracy: {}'\n",
    "    print(template.format(\n",
    "    epoch + 1,\n",
    "    train_loss.result(),\n",
    "    train_accuracy.result(),\n",
    "    test_loss.result(),\n",
    "    test_accuracy.result(),\n",
    "    ))\n",
    "    train_loss.reset_states()\n",
    "    train_accuracy.reset_states()\n",
    "    test_loss.reset_states()\n",
    "    train_accuracy.reset_states()"
   ]
  },
  {
   "cell_type": "code",
   "execution_count": null,
   "id": "4e76699b",
   "metadata": {},
   "outputs": [],
   "source": []
  }
 ],
 "metadata": {
  "kernelspec": {
   "display_name": "PyCharm (zenva_machine_learning_mini_degree)",
   "language": "python",
   "name": "pycharm-804c2db9"
  },
  "language_info": {
   "codemirror_mode": {
    "name": "ipython",
    "version": 3
   },
   "file_extension": ".py",
   "mimetype": "text/x-python",
   "name": "python",
   "nbconvert_exporter": "python",
   "pygments_lexer": "ipython3",
   "version": "3.8.0"
  }
 },
 "nbformat": 4,
 "nbformat_minor": 5
}

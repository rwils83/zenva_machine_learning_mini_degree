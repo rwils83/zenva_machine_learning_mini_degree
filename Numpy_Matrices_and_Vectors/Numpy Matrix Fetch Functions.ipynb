{
 "cells": [
  {
   "cell_type": "markdown",
   "id": "0e02d599",
   "metadata": {},
   "source": [
    "# Numpy Matrix Fetch Functions\n",
    "* Get elements based on index\n",
    "* Get Slices\n",
    "* Get size and shape\n",
    "* Get max, min, and average"
   ]
  },
  {
   "cell_type": "code",
   "execution_count": 1,
   "id": "294d0346",
   "metadata": {},
   "outputs": [],
   "source": [
    "import numpy as np"
   ]
  },
  {
   "cell_type": "code",
   "execution_count": 2,
   "id": "8d508ac6",
   "metadata": {},
   "outputs": [
    {
     "name": "stdout",
     "output_type": "stream",
     "text": [
      "[[1 2 3]\n",
      " [4 5 6]\n",
      " [7 8 9]]\n"
     ]
    }
   ],
   "source": [
    "a_matrix = np.matrix([[1, 2, 3], [4, 5, 6], [7, 8, 9]])\n",
    "print(a_matrix)"
   ]
  },
  {
   "cell_type": "code",
   "execution_count": 4,
   "id": "07143237",
   "metadata": {},
   "outputs": [
    {
     "name": "stdout",
     "output_type": "stream",
     "text": [
      "[[1 2 3]]\n"
     ]
    }
   ],
   "source": [
    "# get full row\n",
    "print(a_matrix[0])"
   ]
  },
  {
   "cell_type": "code",
   "execution_count": 5,
   "id": "cf4f5625",
   "metadata": {},
   "outputs": [
    {
     "name": "stdout",
     "output_type": "stream",
     "text": [
      "4\n"
     ]
    }
   ],
   "source": [
    "# get single element: row, column\n",
    "print(a_matrix[1,0])"
   ]
  },
  {
   "cell_type": "code",
   "execution_count": 7,
   "id": "b2e5f641",
   "metadata": {},
   "outputs": [
    {
     "name": "stdout",
     "output_type": "stream",
     "text": [
      "[[8 9]]\n"
     ]
    }
   ],
   "source": [
    "# get slices: Get 8, 9\n",
    "print(a_matrix[2, 1:])"
   ]
  },
  {
   "cell_type": "code",
   "execution_count": 8,
   "id": "c1b84d3c",
   "metadata": {},
   "outputs": [
    {
     "name": "stdout",
     "output_type": "stream",
     "text": [
      "[[8 9]]\n"
     ]
    }
   ],
   "source": [
    "# or\n",
    "print(a_matrix[2, 1:3])"
   ]
  },
  {
   "cell_type": "code",
   "execution_count": 9,
   "id": "eda002ef",
   "metadata": {},
   "outputs": [
    {
     "name": "stdout",
     "output_type": "stream",
     "text": [
      "9\n",
      "(3, 3)\n"
     ]
    }
   ],
   "source": [
    "# Get size\n",
    "print(a_matrix.size)\n",
    "# Get Shape\n",
    "print(a_matrix.shape)"
   ]
  },
  {
   "cell_type": "code",
   "execution_count": 12,
   "id": "d69ee467",
   "metadata": {},
   "outputs": [
    {
     "name": "stdout",
     "output_type": "stream",
     "text": [
      "9 Using np.amax()\n",
      "9 Using <array>.max()\n",
      "1 Using np.amin()\n",
      "1 Using <array>.min()\n",
      "5.0 Using np.average()\n",
      "5.0 Using <array>.mean()\n"
     ]
    }
   ],
   "source": [
    "# Get max\n",
    "print(np.amax(a_matrix), \"Using np.amax()\")\n",
    "\n",
    "# Or\n",
    "print(a_matrix.max(), \"Using <array>.max()\")\n",
    "\n",
    "# Get min\n",
    "print(np.amin(a_matrix), \"Using np.amin()\")\n",
    "\n",
    "# Or\n",
    "print(a_matrix.min(), \"Using <array>.min()\")\n",
    "\n",
    "# Get Average\n",
    "print(np.average(a_matrix), \"Using np.average()\")\n",
    "\n",
    "# Or\n",
    "print(a_matrix.mean(), \"Using <array>.mean()\")"
   ]
  },
  {
   "cell_type": "code",
   "execution_count": 13,
   "id": "10294ab8",
   "metadata": {},
   "outputs": [],
   "source": [
    "# Above is personal preference, most likely same efficiency "
   ]
  },
  {
   "cell_type": "code",
   "execution_count": null,
   "id": "dae70fbd",
   "metadata": {},
   "outputs": [],
   "source": []
  }
 ],
 "metadata": {
  "kernelspec": {
   "display_name": "Python 3 (ipykernel)",
   "language": "python",
   "name": "python3"
  },
  "language_info": {
   "codemirror_mode": {
    "name": "ipython",
    "version": 3
   },
   "file_extension": ".py",
   "mimetype": "text/x-python",
   "name": "python",
   "nbconvert_exporter": "python",
   "pygments_lexer": "ipython3",
   "version": "3.7.8"
  }
 },
 "nbformat": 4,
 "nbformat_minor": 5
}

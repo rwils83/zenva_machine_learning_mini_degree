{
 "cells": [
  {
   "cell_type": "markdown",
   "id": "469e6371",
   "metadata": {},
   "source": [
    "# Intro to Matrices in Numpy\n",
    "* Talk about what matrices are and why they're important\n",
    "    * A matrix is a multidimensional array\n",
    "    * Essentially an array of arrays\n",
    "    * Used in images, geological data, machine learning, and anything graph related\n",
    "    * Examples\n",
    "        * An Image of 1 might look like this:\n",
    "            [[0,0,1,0,0],\n",
    "             [0,0,1,0,0],\n",
    "             [0,0,1,0,0],\n",
    "             [0,0,1,0,0],\n",
    "             [0,0,1,0,0],]\n",
    "* Create a custom matrix\n",
    "* Create a matrix of ones or zeroes"
   ]
  },
  {
   "cell_type": "code",
   "execution_count": 1,
   "id": "7cfd0c51",
   "metadata": {},
   "outputs": [],
   "source": [
    "import numpy as np"
   ]
  },
  {
   "cell_type": "code",
   "execution_count": 2,
   "id": "90b8b26f",
   "metadata": {},
   "outputs": [
    {
     "name": "stdout",
     "output_type": "stream",
     "text": [
      "[[1 2]\n",
      " [3 4]]\n"
     ]
    }
   ],
   "source": [
    "# How to create a matrix\n",
    "two_by_two = np.matrix([[1,2],[3,4]])\n",
    "print(two_by_two)"
   ]
  },
  {
   "cell_type": "code",
   "execution_count": 3,
   "id": "fc794bb1",
   "metadata": {},
   "outputs": [],
   "source": [
    "# No limit other than computation\n",
    "# Each list should be the same size\n"
   ]
  },
  {
   "cell_type": "code",
   "execution_count": 4,
   "id": "b0d5e866",
   "metadata": {},
   "outputs": [
    {
     "name": "stdout",
     "output_type": "stream",
     "text": [
      "[[1 2]\n",
      " [3 4]\n",
      " [5 6]]\n"
     ]
    }
   ],
   "source": [
    "two_by_three = np.matrix('1 2; 3 4; 5 6')\n",
    "print(two_by_three)\n"
   ]
  },
  {
   "cell_type": "code",
   "execution_count": 6,
   "id": "a90a4cd3",
   "metadata": {},
   "outputs": [
    {
     "name": "stdout",
     "output_type": "stream",
     "text": [
      "[[0. 0.]\n",
      " [0. 0.]\n",
      " [0. 0.]]\n"
     ]
    }
   ],
   "source": [
    "# Above is create matrices by specifying explicitly \n",
    "# Below use np.zeros etc\n",
    "zero_matrix_two_by_three = np.zeros([3, 2]) # np.zeros([<number_of_lists, <number_of_elements])\n",
    "print(zero_matrix_two_by_three)"
   ]
  },
  {
   "cell_type": "code",
   "execution_count": 7,
   "id": "fd06abdc",
   "metadata": {},
   "outputs": [
    {
     "name": "stdout",
     "output_type": "stream",
     "text": [
      "[[0. 0.]\n",
      " [0. 0.]\n",
      " [0. 0.]\n",
      " [0. 0.]\n",
      " [0. 0.]\n",
      " [0. 0.]\n",
      " [0. 0.]\n",
      " [0. 0.]\n",
      " [0. 0.]\n",
      " [0. 0.]\n",
      " [0. 0.]\n",
      " [0. 0.]\n",
      " [0. 0.]\n",
      " [0. 0.]\n",
      " [0. 0.]]\n"
     ]
    }
   ],
   "source": [
    "ones_matrix_two_by_15 = np.zeros([15, 2])\n",
    "print(ones_matrix_two_by_15)"
   ]
  },
  {
   "cell_type": "code",
   "execution_count": null,
   "id": "105c87a7",
   "metadata": {},
   "outputs": [],
   "source": []
  }
 ],
 "metadata": {
  "kernelspec": {
   "display_name": "Python 3 (ipykernel)",
   "language": "python",
   "name": "python3"
  },
  "language_info": {
   "codemirror_mode": {
    "name": "ipython",
    "version": 3
   },
   "file_extension": ".py",
   "mimetype": "text/x-python",
   "name": "python",
   "nbconvert_exporter": "python",
   "pygments_lexer": "ipython3",
   "version": "3.7.8"
  }
 },
 "nbformat": 4,
 "nbformat_minor": 5
}

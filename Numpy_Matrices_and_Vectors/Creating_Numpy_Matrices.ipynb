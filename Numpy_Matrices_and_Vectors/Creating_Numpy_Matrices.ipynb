{
 "cells": [
  {
   "cell_type": "markdown",
   "id": "633562e9",
   "metadata": {},
   "source": [
    "Intro to matrices in Numpy\n",
    "* Talk about what matrices are and why they're important\n",
    "* Create a custom matrix\n",
    "* Create a matrix of ones or zeroes"
   ]
  },
  {
   "cell_type": "code",
   "execution_count": 1,
   "id": "96b99976",
   "metadata": {},
   "outputs": [],
   "source": [
    "import numpy as np"
   ]
  },
  {
   "cell_type": "code",
   "execution_count": null,
   "id": "5a88bf2c",
   "metadata": {},
   "outputs": [],
   "source": []
  }
 ],
 "metadata": {
  "kernelspec": {
   "display_name": "Python 3 (ipykernel)",
   "language": "python",
   "name": "python3"
  },
  "language_info": {
   "codemirror_mode": {
    "name": "ipython",
    "version": 3
   },
   "file_extension": ".py",
   "mimetype": "text/x-python",
   "name": "python",
   "nbconvert_exporter": "python",
   "pygments_lexer": "ipython3",
   "version": "3.7.8"
  }
 },
 "nbformat": 4,
 "nbformat_minor": 5
}

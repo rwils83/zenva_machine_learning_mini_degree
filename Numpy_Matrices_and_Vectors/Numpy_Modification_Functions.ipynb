{
 "cells": [
  {
   "cell_type": "markdown",
   "id": "d3028c1e",
   "metadata": {},
   "source": [
    "Learning about Append, insert, delete, scalar and vector, and sorting operations"
   ]
  },
  {
   "cell_type": "code",
   "execution_count": 1,
   "id": "c7c48310",
   "metadata": {},
   "outputs": [],
   "source": [
    "import numpy as np"
   ]
  },
  {
   "cell_type": "code",
   "execution_count": 2,
   "id": "52a59ff9",
   "metadata": {},
   "outputs": [
    {
     "name": "stdout",
     "output_type": "stream",
     "text": [
      "[0 1 2 3 4 5]\n"
     ]
    }
   ],
   "source": [
    "an_array = np.arange(0, 6)\n",
    "print(an_array)"
   ]
  },
  {
   "cell_type": "code",
   "execution_count": 3,
   "id": "8597bd29",
   "metadata": {},
   "outputs": [
    {
     "name": "stdout",
     "output_type": "stream",
     "text": [
      "[10  1  2  3  4  5]\n"
     ]
    }
   ],
   "source": [
    "an_array[0] = 10\n",
    "print(an_array)"
   ]
  },
  {
   "cell_type": "code",
   "execution_count": 4,
   "id": "4e64f084",
   "metadata": {},
   "outputs": [
    {
     "name": "stdout",
     "output_type": "stream",
     "text": [
      "[0 1 2 3 4 5 6 7]\n",
      "[10 11  0  1  2  3  4  5]\n",
      "[0 1 2 4 5]\n"
     ]
    }
   ],
   "source": [
    "an_array = np.arange(0, 6)\n",
    "# Append, insert, delete operations\n",
    "print(np.append(an_array, [6, 7])) # params: array to append to, element(s) to append (can be single element or list of elements)\n",
    "print(np.insert(an_array, 0, [10, 11])) # params: array to insert into, index to start insert, element(s) to insert (same options as append)\n",
    "print(np.delete(an_array, 3))"
   ]
  },
  {
   "cell_type": "code",
   "execution_count": 5,
   "id": "5cfc92a8",
   "metadata": {},
   "outputs": [
    {
     "name": "stdout",
     "output_type": "stream",
     "text": [
      "[ 0  2  4  6  8 10]\n",
      "[2 3 4 5 6 7]\n",
      "[-2 -1  0  1  2  3]\n",
      "[0.  0.5 1.  1.5 2.  2.5]\n",
      "[0 1 0 1 0 1]\n"
     ]
    }
   ],
   "source": [
    "# Scalar and vector operations\n",
    "print(an_array * 2)\n",
    "print(an_array + 2)\n",
    "print(an_array - 2)\n",
    "print(an_array / 2)\n",
    "print(an_array % 2)"
   ]
  },
  {
   "cell_type": "code",
   "execution_count": 6,
   "id": "9a6e81ac",
   "metadata": {},
   "outputs": [
    {
     "name": "stdout",
     "output_type": "stream",
     "text": [
      "[0 1 2 4 8 9]\n",
      "[9 8 4 2 1 0]\n"
     ]
    }
   ],
   "source": [
    "# Sorting operations\n",
    "# Default sort ascending\n",
    "another_array = np.array([2, 4, 8, 1, 9, 0])\n",
    "print(np.sort(another_array))\n",
    "# Descending Order, kinda hacky but it works lol. Set array negative, sort, negative the result \n",
    "print(-np.sort(-another_array))"
   ]
  }
 ],
 "metadata": {
  "kernelspec": {
   "display_name": "Python 3 (ipykernel)",
   "language": "python",
   "name": "python3"
  },
  "language_info": {
   "codemirror_mode": {
    "name": "ipython",
    "version": 3
   },
   "file_extension": ".py",
   "mimetype": "text/x-python",
   "name": "python",
   "nbconvert_exporter": "python",
   "pygments_lexer": "ipython3",
   "version": "3.7.8"
  }
 },
 "nbformat": 4,
 "nbformat_minor": 5
}

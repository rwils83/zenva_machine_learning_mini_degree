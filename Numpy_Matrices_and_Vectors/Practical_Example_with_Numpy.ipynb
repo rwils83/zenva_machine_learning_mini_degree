{
 "cells": [
  {
   "cell_type": "markdown",
   "id": "8e784093",
   "metadata": {},
   "source": [
    "* Start with a random list of grades\n",
    "* Obtain the max, min, and average\n",
    "* Sort in ascending and descending order\n",
    "* Increase all grades by a % and by adding ones"
   ]
  },
  {
   "cell_type": "code",
   "execution_count": 1,
   "id": "ff741af8",
   "metadata": {},
   "outputs": [],
   "source": [
    "import numpy as np"
   ]
  },
  {
   "cell_type": "code",
   "execution_count": 2,
   "id": "0b85f61a",
   "metadata": {},
   "outputs": [],
   "source": [
    "student_grades = np.array([56, 78, 98, 90, 58, 64, 67, 72, 93, 51])"
   ]
  },
  {
   "cell_type": "code",
   "execution_count": 3,
   "id": "645f9b7b",
   "metadata": {},
   "outputs": [
    {
     "name": "stdout",
     "output_type": "stream",
     "text": [
      "72.7\n"
     ]
    }
   ],
   "source": [
    "class_average = np.average(student_grades)\n",
    "print(class_average)"
   ]
  },
  {
   "cell_type": "code",
   "execution_count": 4,
   "id": "1d5605d2",
   "metadata": {},
   "outputs": [
    {
     "name": "stdout",
     "output_type": "stream",
     "text": [
      "98\n"
     ]
    }
   ],
   "source": [
    "highest_grade = np.amax(student_grades)\n",
    "print(highest_grade)"
   ]
  },
  {
   "cell_type": "code",
   "execution_count": 5,
   "id": "ff3e82ca",
   "metadata": {},
   "outputs": [
    {
     "name": "stdout",
     "output_type": "stream",
     "text": [
      "51\n"
     ]
    }
   ],
   "source": [
    "lowest_grade = np.amin(student_grades)\n",
    "print(lowest_grade)"
   ]
  },
  {
   "cell_type": "code",
   "execution_count": 7,
   "id": "4e211c55",
   "metadata": {},
   "outputs": [
    {
     "name": "stdout",
     "output_type": "stream",
     "text": [
      "2\n",
      "9\n"
     ]
    }
   ],
   "source": [
    "index_of_max = np.argmax(student_grades)\n",
    "print(index_of_max)\n",
    "index_of_min = np.argmin(student_grades)\n",
    "print(index_of_min)"
   ]
  },
  {
   "cell_type": "code",
   "execution_count": 8,
   "id": "b888e2f4",
   "metadata": {},
   "outputs": [
    {
     "name": "stdout",
     "output_type": "stream",
     "text": [
      "[51 56 58 64 67 72 78 90 93 98]\n",
      "[98 93 90 78 72 67 64 58 56 51]\n"
     ]
    }
   ],
   "source": [
    "ascending_sort = np.sort(student_grades)\n",
    "decending_sort = -np.sort(-student_grades)\n",
    "print(ascending_sort)\n",
    "print(decending_sort)"
   ]
  },
  {
   "cell_type": "code",
   "execution_count": 10,
   "id": "d53ba82b",
   "metadata": {},
   "outputs": [
    {
     "name": "stdout",
     "output_type": "stream",
     "text": [
      "[ 61.6  85.8 107.8  99.   63.8  70.4  73.7  79.2 102.3  56.1]\n"
     ]
    }
   ],
   "source": [
    "increased_grades = student_grades * 1.1\n",
    "print(increased_grades)"
   ]
  },
  {
   "cell_type": "code",
   "execution_count": 11,
   "id": "f90bc7b4",
   "metadata": {},
   "outputs": [
    {
     "name": "stdout",
     "output_type": "stream",
     "text": [
      "[ 61.6  85.8 107.8  99.   63.8  70.4  73.7  79.2 102.3  56.1]\n"
     ]
    }
   ],
   "source": [
    "increase_grands = student_grades + 10\n",
    "print(increased_grades)"
   ]
  },
  {
   "cell_type": "code",
   "execution_count": 14,
   "id": "1bddafa9",
   "metadata": {},
   "outputs": [
    {
     "name": "stdout",
     "output_type": "stream",
     "text": [
      "[57. 79. 99. 91. 59. 65. 68. 73. 94. 52.]\n"
     ]
    }
   ],
   "source": [
    "print(np.add(student_grades, np.ones(10)))"
   ]
  },
  {
   "cell_type": "code",
   "execution_count": 17,
   "id": "ecf9a0d4",
   "metadata": {},
   "outputs": [
    {
     "name": "stdout",
     "output_type": "stream",
     "text": [
      "[ 57  80 101  94  63  70  74  80 102  61]\n"
     ]
    }
   ],
   "source": [
    "print(np.add(student_grades, np.array([1,2,3,4,5,6,7,8,9,10])))"
   ]
  },
  {
   "cell_type": "code",
   "execution_count": null,
   "id": "b1620445",
   "metadata": {},
   "outputs": [],
   "source": []
  }
 ],
 "metadata": {
  "kernelspec": {
   "display_name": "Python 3 (ipykernel)",
   "language": "python",
   "name": "python3"
  },
  "language_info": {
   "codemirror_mode": {
    "name": "ipython",
    "version": 3
   },
   "file_extension": ".py",
   "mimetype": "text/x-python",
   "name": "python",
   "nbconvert_exporter": "python",
   "pygments_lexer": "ipython3",
   "version": "3.7.8"
  }
 },
 "nbformat": 4,
 "nbformat_minor": 5
}

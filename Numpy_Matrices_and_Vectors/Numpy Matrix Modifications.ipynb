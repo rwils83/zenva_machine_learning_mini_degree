{
 "cells": [
  {
   "cell_type": "markdown",
   "id": "1a7e47fe",
   "metadata": {},
   "source": [
    "# Numpy Matrix Modifications\n",
    "* Change individual elements or rows\n",
    "* Sort Matrices\n",
    "* Transpose Matrices\n",
    "* Multiplication and addition\n",
    "* Matrix multiplication"
   ]
  },
  {
   "cell_type": "code",
   "execution_count": 1,
   "id": "7c5a8c41",
   "metadata": {},
   "outputs": [],
   "source": [
    "import numpy as np"
   ]
  },
  {
   "cell_type": "code",
   "execution_count": 3,
   "id": "ec8af027",
   "metadata": {},
   "outputs": [
    {
     "name": "stdout",
     "output_type": "stream",
     "text": [
      "[[1 2]\n",
      " [3 4]]\n"
     ]
    }
   ],
   "source": [
    "a_matrix = np.matrix([[1, 2],[3, 4]])\n",
    "print(a_matrix)"
   ]
  },
  {
   "cell_type": "code",
   "execution_count": 4,
   "id": "3b3ee416",
   "metadata": {},
   "outputs": [
    {
     "name": "stdout",
     "output_type": "stream",
     "text": [
      "[[ 1  2]\n",
      " [10  4]]\n"
     ]
    }
   ],
   "source": [
    "# Assign individual elements\n",
    "a_matrix[1,0] = 10 # <array>[<row>, <element>] = <new_value> Should be single thing\n",
    "print(a_matrix)"
   ]
  },
  {
   "cell_type": "code",
   "execution_count": 5,
   "id": "e4e9ec82",
   "metadata": {},
   "outputs": [
    {
     "name": "stdout",
     "output_type": "stream",
     "text": [
      "[[1 2]\n",
      " [6 3]]\n"
     ]
    }
   ],
   "source": [
    "# Assign full row\n",
    "a_matrix[1] = [6, 3] # <array>[<row>] = <new value> Should be an array\n",
    "print(a_matrix)"
   ]
  },
  {
   "cell_type": "code",
   "execution_count": 8,
   "id": "fb73d290",
   "metadata": {},
   "outputs": [
    {
     "name": "stdout",
     "output_type": "stream",
     "text": [
      "[[1 2]\n",
      " [3 6]] Ascending order\n",
      "[[2 1]\n",
      " [6 3]] Descending order\n"
     ]
    }
   ],
   "source": [
    "# Sort functions\n",
    "# Sorts each row separately, leaves rows in the same order\n",
    "print(np.sort(a_matrix), \"Ascending order\")\n",
    "# Sort in descending order\n",
    "print(-np.sort(-a_matrix), \"Descending order\")"
   ]
  },
  {
   "cell_type": "code",
   "execution_count": 10,
   "id": "3db71dc4",
   "metadata": {},
   "outputs": [
    {
     "name": "stdout",
     "output_type": "stream",
     "text": [
      "[[1 6]\n",
      " [2 3]]\n"
     ]
    }
   ],
   "source": [
    "# Transposing\n",
    "print(a_matrix.T)\n"
   ]
  },
  {
   "cell_type": "code",
   "execution_count": 13,
   "id": "f6b522da",
   "metadata": {},
   "outputs": [
    {
     "name": "stdout",
     "output_type": "stream",
     "text": [
      "[[1 2 6 3]]\n"
     ]
    }
   ],
   "source": [
    "# Flatten\n",
    "print(a_matrix.flatten())"
   ]
  },
  {
   "cell_type": "code",
   "execution_count": 16,
   "id": "56da1ebf",
   "metadata": {},
   "outputs": [
    {
     "name": "stdout",
     "output_type": "stream",
     "text": [
      "[[2 3]\n",
      " [7 4]] Add one to every element (Scalar Addition)\n",
      "[[ 2  4]\n",
      " [12  6]] Multiply each element by 2 (Scalar Multiplication)\n",
      "[[ 2  4]\n",
      " [12  6]] Add two matrices (np.add())\n",
      "[[13  8]\n",
      " [24 21]] Multiply two matrices (np.matmul())\n"
     ]
    }
   ],
   "source": [
    "# Scalar Addition\n",
    "print(a_matrix + 1, \"Add one to every element (Scalar Addition)\")\n",
    "# Scalar Multiplication\n",
    "print(a_matrix * 2, \"Multiply each element by 2 (Scalar Multiplication)\")\n",
    "# Numpy Add\n",
    "print(np.add(a_matrix, a_matrix), \"Add two matrices (np.add())\")\n",
    "# Numpy Multiply\n",
    "print(np.matmul(a_matrix, a_matrix), \"Multiply two matrices (np.matmul())\")"
   ]
  }
 ],
 "metadata": {
  "kernelspec": {
   "display_name": "Python 3 (ipykernel)",
   "language": "python",
   "name": "python3"
  },
  "language_info": {
   "codemirror_mode": {
    "name": "ipython",
    "version": 3
   },
   "file_extension": ".py",
   "mimetype": "text/x-python",
   "name": "python",
   "nbconvert_exporter": "python",
   "pygments_lexer": "ipython3",
   "version": "3.7.8"
  }
 },
 "nbformat": 4,
 "nbformat_minor": 5
}

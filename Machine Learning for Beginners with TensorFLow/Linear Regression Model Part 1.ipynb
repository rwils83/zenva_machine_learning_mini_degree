{
 "cells": [
  {
   "cell_type": "markdown",
   "id": "f92daafb",
   "metadata": {},
   "source": [
    "# Linear Regression Model Part 1\n",
    "\n",
    "## Part 1- Gathering Data\n",
    "* Create some data for our model\n",
    "    * Use numpy linspace to generate some points\n",
    "* Plot the points on a graph\n",
    "* "
   ]
  },
  {
   "cell_type": "code",
   "execution_count": 80,
   "id": "4ad14cb3",
   "metadata": {},
   "outputs": [],
   "source": [
    "import tensorflow as tf\n",
    "import matplotlib.pyplot as plt\n",
    "import numpy as np\n"
   ]
  },
  {
   "cell_type": "code",
   "execution_count": 1,
   "id": "e81a621b",
   "metadata": {},
   "outputs": [
    {
     "ename": "NameError",
     "evalue": "name 'np' is not defined",
     "output_type": "error",
     "traceback": [
      "\u001B[1;31m---------------------------------------------------------------------------\u001B[0m",
      "\u001B[1;31mNameError\u001B[0m                                 Traceback (most recent call last)",
      "\u001B[1;32m~\\AppData\\Local\\Temp/ipykernel_2880/3586466578.py\u001B[0m in \u001B[0;36m<module>\u001B[1;34m\u001B[0m\n\u001B[0;32m      2\u001B[0m \u001B[0mm\u001B[0m \u001B[1;33m=\u001B[0m \u001B[1;36m2\u001B[0m\u001B[1;33m\u001B[0m\u001B[1;33m\u001B[0m\u001B[0m\n\u001B[0;32m      3\u001B[0m \u001B[0mb\u001B[0m \u001B[1;33m=\u001B[0m \u001B[1;36m0.5\u001B[0m\u001B[1;33m\u001B[0m\u001B[1;33m\u001B[0m\u001B[0m\n\u001B[1;32m----> 4\u001B[1;33m \u001B[0mx\u001B[0m \u001B[1;33m=\u001B[0m \u001B[0mnp\u001B[0m\u001B[1;33m.\u001B[0m\u001B[0mlinspace\u001B[0m\u001B[1;33m(\u001B[0m\u001B[1;36m0\u001B[0m\u001B[1;33m,\u001B[0m\u001B[1;36m4\u001B[0m\u001B[1;33m,\u001B[0m \u001B[1;36m100\u001B[0m\u001B[1;33m)\u001B[0m\u001B[1;33m\u001B[0m\u001B[1;33m\u001B[0m\u001B[0m\n\u001B[0m\u001B[0;32m      5\u001B[0m \u001B[0my\u001B[0m \u001B[1;33m=\u001B[0m \u001B[0mm\u001B[0m \u001B[1;33m*\u001B[0m \u001B[0mx\u001B[0m \u001B[1;33m+\u001B[0m \u001B[0mb\u001B[0m \u001B[1;33m+\u001B[0m \u001B[0mnp\u001B[0m\u001B[1;33m.\u001B[0m\u001B[0mrandom\u001B[0m\u001B[1;33m.\u001B[0m\u001B[0mrandn\u001B[0m\u001B[1;33m(\u001B[0m\u001B[1;33m*\u001B[0m\u001B[0mx\u001B[0m\u001B[1;33m.\u001B[0m\u001B[0mshape\u001B[0m\u001B[1;33m)\u001B[0m \u001B[1;33m+\u001B[0m \u001B[1;36m.25\u001B[0m\u001B[1;33m\u001B[0m\u001B[1;33m\u001B[0m\u001B[0m\n\u001B[0;32m      6\u001B[0m \u001B[1;33m\u001B[0m\u001B[0m\n",
      "\u001B[1;31mNameError\u001B[0m: name 'np' is not defined"
     ]
    }
   ],
   "source": [
    "# Part 1 Creating the data\n",
    "m = 2\n",
    "b = 0.5\n",
    "x = np.linspace(0,4, 100)\n",
    "y = m * x + b + np.random.randn(*x.shape) + .25"
   ]
  },
  {
   "cell_type": "code",
   "execution_count": 82,
   "id": "f50a4d14",
   "metadata": {},
   "outputs": [
    {
     "data": {
      "text/plain": [
       "<matplotlib.collections.PathCollection at 0x14d9bcf4280>"
      ]
     },
     "execution_count": 82,
     "metadata": {},
     "output_type": "execute_result"
    },
    {
     "data": {
      "image/png": "[encoded data removed]",
      "text/plain": [
       "<Figure size 432x288 with 1 Axes>"
      ]
     },
     "metadata": {
      "needs_background": "light"
     },
     "output_type": "display_data"
    }
   ],
   "source": [
    "plt.scatter(x, y)"
   ]
  },
  {
   "cell_type": "code",
   "execution_count": 83,
   "id": "d554607e",
   "metadata": {},
   "outputs": [],
   "source": [
    "# Part 2\n"
   ]
  },
  {
   "cell_type": "code",
   "execution_count": 84,
   "id": "42fc0139",
   "metadata": {},
   "outputs": [],
   "source": [
    "class Model:\n",
    "    def __init__(self):\n",
    "        self.weight = tf.Variable(10.0)\n",
    "        self.bias = tf.Variable(10.0)\n",
    "        # Part 3 Below\n",
    "    def __call__(self, x):\n",
    "        return self.weight * x + self.bias\n"
   ]
  },
  {
   "cell_type": "code",
   "execution_count": 85,
   "id": "48c9202c",
   "metadata": {},
   "outputs": [],
   "source": [
    "# Part 4 Loss Function\n",
    "def calculate_loss(y_actual, y_output):\n",
    "    return tf.reduce_mean(tf.square(y_actual - y_output))"
   ]
  },
  {
   "cell_type": "code",
   "execution_count": 86,
   "id": "be65e80d",
   "metadata": {},
   "outputs": [],
   "source": [
    "# Part 5 Training \n",
    "# Build the training loop\n",
    "# Train the model to adjust the weights and biases\n",
    "# Doing from scratch, normally will not\n",
    "def train(model, x, y, learning_rate):\n",
    "    # Higher learning_rate faster, but less fine tuning\n",
    "    # Lower learning_rate slower, more fine tuning\n",
    "    with tf.GradientTape() as gt:\n",
    "        y_output = model(x)\n",
    "        loss = calculate_loss(y, y_output)\n",
    "        \n",
    "    new_weight, new_bias = gt.gradient(loss, [model.weight, model.bias])\n",
    "    model.weight.assign_sub(new_weight * learning_rate)\n",
    "    model.bias.assign_sub(new_bias * learning_rate)"
   ]
  },
  {
   "cell_type": "code",
   "execution_count": 87,
   "id": "ce4bdda4",
   "metadata": {},
   "outputs": [],
   "source": [
    "# Part 6 Actually building the training loop\n",
    "\n",
    "model = Model()\n",
    "epochs = 1000000\n",
    "learning_rate = 0.025\n",
    "for epoch in range(epochs):\n",
    "    y_output = model(x)\n",
    "    loss = calculate_loss(y, y_output)\n",
    "   # print(f\"Epoch: {epoch}, loss: {loss.numpy()}\")\n",
    "    train(model, x, y, learning_rate)"
   ]
  },
  {
   "cell_type": "code",
   "execution_count": 88,
   "id": "6073b479",
   "metadata": {},
   "outputs": [
    {
     "name": "stdout",
     "output_type": "stream",
     "text": [
      "1.9974757\n",
      "0.71206224\n"
     ]
    }
   ],
   "source": [
    "# Part 7 Testing and Evaluating\n",
    "print(model.weight.numpy())\n",
    "print(model.bias.numpy())"
   ]
  },
  {
   "cell_type": "code",
   "execution_count": 89,
   "id": "5f66b9ff",
   "metadata": {},
   "outputs": [
    {
     "data": {
      "text/plain": [
       "<matplotlib.collections.PathCollection at 0x14d9bd5df40>"
      ]
     },
     "execution_count": 89,
     "metadata": {},
     "output_type": "execute_result"
    },
    {
     "data": {
      "image/png": "[encoded data removed]",
      "text/plain": [
       "<Figure size 432x288 with 1 Axes>"
      ]
     },
     "metadata": {
      "needs_background": "light"
     },
     "output_type": "display_data"
    }
   ],
   "source": [
    "new_x = np.linspace(0,4,100)\n",
    "new_y = model.weight.numpy() * new_x * model.bias.numpy()\n",
    "plt.scatter(new_x,new_y)\n",
    "plt.scatter(x,y)"
   ]
  },
  {
   "cell_type": "code",
   "execution_count": null,
   "id": "416148a5",
   "metadata": {},
   "outputs": [],
   "source": []
  }
 ],
 "metadata": {
  "kernelspec": {
   "display_name": "PyCharm (zenva_machine_learning_mini_degree)",
   "language": "python",
   "name": "pycharm-804c2db9"
  },
  "language_info": {
   "codemirror_mode": {
    "name": "ipython",
    "version": 3
   },
   "file_extension": ".py",
   "mimetype": "text/x-python",
   "name": "python",
   "nbconvert_exporter": "python",
   "pygments_lexer": "ipython3",
   "version": "3.8.0"
  }
 },
 "nbformat": 4,
 "nbformat_minor": 5
}
{
 "cells": [
  {
   "cell_type": "markdown",
   "source": [],
   "metadata": {
    "collapsed": false
   }
  },
  {
   "cell_type": "code",
   "execution_count": null,
   "outputs": [],
   "source": [
    "import tensorflow as tf\n",
    "import matplotlib.pyplot as plt\n",
    "import numpy as np\n"
   ],
   "metadata": {
    "collapsed": false,
    "pycharm": {
     "name": "#%%\n"
    }
   }
  },
  {
   "cell_type": "code",
   "execution_count": null,
   "outputs": [],
   "source": [
    "# Part 1 Creating the data\n",
    "m = 2\n",
    "b = 0.5\n",
    "x = np.linspace(0,4, 100)\n",
    "y = m * x + b + np.random.randn(*x.shape) + .25\n",
    "plt.scatter(x, y)\n",
    "\n",
    "class Model:\n",
    "    def __init__(self):\n",
    "        self.weight = tf.Variable(10.0)\n",
    "        self.bias = tf.Variable(10.0)\n",
    "        # Part 3 Below\n",
    "    def __call__(self, x):\n",
    "        return self.weight * x + self.bias\n"
   ],
   "metadata": {
    "collapsed": false,
    "pycharm": {
     "name": "#%%\n"
    }
   }
  },
  {
   "cell_type": "code",
   "execution_count": null,
   "outputs": [],
   "source": [
    "# Part 4 Loss Function\n",
    "def calculate_loss(y_actual, y_output):\n",
    "    return tf.reduce_mean(tf.square(y_actual - y_output))"
   ],
   "metadata": {
    "collapsed": false,
    "pycharm": {
     "name": "#%%\n"
    }
   }
  },
  {
   "cell_type": "code",
   "execution_count": 86,
   "id": "be65e80d",
   "metadata": {},
   "outputs": [],
   "source": [
    "# Part 5 Training \n",
    "# Build the training loop\n",
    "# Train the model to adjust the weights and biases\n",
    "# Doing from scratch, normally will not\n",
    "def train(model, x, y, learning_rate):\n",
    "    # Higher learning_rate faster, but less fine tuning\n",
    "    # Lower learning_rate slower, more fine tuning\n",
    "    with tf.GradientTape() as gt:\n",
    "        y_output = model(x)\n",
    "        loss = calculate_loss(y, y_output)\n",
    "        \n",
    "    new_weight, new_bias = gt.gradient(loss, [model.weight, model.bias])\n",
    "    model.weight.assign_sub(new_weight * learning_rate)\n",
    "    model.bias.assign_sub(new_bias * learning_rate)"
   ]
  },
  {
   "cell_type": "code",
   "execution_count": 87,
   "id": "ce4bdda4",
   "metadata": {},
   "outputs": [],
   "source": [
    "# Part 6 Actually building the training loop\n",
    "\n",
    "model = Model()\n",
    "epochs = 1000000\n",
    "learning_rate = 0.025\n",
    "for epoch in range(epochs):\n",
    "    y_output = model(x)\n",
    "    loss = calculate_loss(y, y_output)\n",
    "   # print(f\"Epoch: {epoch}, loss: {loss.numpy()}\")\n",
    "    train(model, x, y, learning_rate)"
   ]
  },
  {
   "cell_type": "code",
   "execution_count": 88,
   "id": "6073b479",
   "metadata": {},
   "outputs": [
    {
     "name": "stdout",
     "output_type": "stream",
     "text": [
      "1.9974757\n",
      "0.71206224\n"
     ]
    }
   ],
   "source": [
    "# Part 7 Testing and Evaluating\n",
    "print(model.weight.numpy())\n",
    "print(model.bias.numpy())"
   ]
  },
  {
   "cell_type": "code",
   "execution_count": 89,
   "id": "5f66b9ff",
   "metadata": {},
   "outputs": [
    {
     "data": {
      "text/plain": [
       "<matplotlib.collections.PathCollection at 0x14d9bd5df40>"
      ]
     },
     "execution_count": 89,
     "metadata": {},
     "output_type": "execute_result"
    },
    {
     "data": {
      "image/png": "[encoded data removed]",
      "text/plain": [
       "<Figure size 432x288 with 1 Axes>"
      ]
     },
     "metadata": {
      "needs_background": "light"
     },
     "output_type": "display_data"
    }
   ],
   "source": [
    "new_x = np.linspace(0,4,100)\n",
    "new_y = model.weight.numpy() * new_x * model.bias.numpy()\n",
    "plt.scatter(new_x,new_y)\n",
    "plt.scatter(x,y)"
   ]
  },
  {
   "cell_type": "code",
   "execution_count": null,
   "id": "416148a5",
   "metadata": {},
   "outputs": [],
   "source": []
  }
 ],
 "metadata": {
  "kernelspec": {
   "display_name": "PyCharm (zenva_machine_learning_mini_degree)",
   "language": "python",
   "name": "pycharm-804c2db9"
  },
  "language_info": {
   "codemirror_mode": {
    "name": "ipython",
    "version": 3
   },
   "file_extension": ".py",
   "mimetype": "text/x-python",
   "name": "python",
   "nbconvert_exporter": "python",
   "pygments_lexer": "ipython3",
   "version": "3.8.0"
  }
 },
 "nbformat": 4,
 "nbformat_minor": 5
}
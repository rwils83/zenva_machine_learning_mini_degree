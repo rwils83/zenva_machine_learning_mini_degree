{
 "cells": [
  {
   "cell_type": "markdown",
   "metadata": {},
   "source": [
    "# Linear Regression (What we will solve with ML)\n",
    "## What is Linear Regression\n",
    "* Linear regression is essentially fitting a line through data to minimize average distance between all points and the line\n",
    "* Usually corresponds with a line of best fit\n",
    "* Can be used for predictive models\n",
    "* We will be focusing on simple linear regression which only takes into account one dpendent and one independent variable\n",
    "\n",
    "## How does Linear regression work?\n",
    "* Start by plotting data on a graph, typically use a scatter plot\n",
    "* Draw a line through the data that runs roughly through the middle of the points to give an even number above and below the line\n",
    "* We can get the error by totalling the absolute value of the distances between each points y value and the line at that point\n",
    "* We adjust the line by changing the y intercept and the slope so as to minimize the error\n",
    "\n",
    "## What is Gradient Descent\n",
    "* Optimization algorithm to find the minimum of a function\n",
    "* We use this with Linear Regression to find the minimum error\n",
    "* When we use a Gradient Descent optimizer function, it will change slope and y intercept so as to get the optimal line through the data\n",
    "* Generally we see the error decrease sharply at fist then begin to slow down so slope decreases over time\n",
    "\n",
    "## Remember y=mxb\n",
    "* Y \n",
    "    * Dependent Variable\n",
    "    * Our Outputs\n",
    "* X \n",
    "    * Independent Variable\n",
    "    * Our Inputs\n",
    "* M \n",
    "    * Slope\n",
    "    * Our weighted values\n",
    "* B \n",
    "    * Y intercept\n",
    "    * Our bias values\n",
    "\n",
    "## Our goal\n",
    "* Program the function to find the minimal error"
   ]
  },
  {
   "cell_type": "code",
   "execution_count": null,
   "metadata": {},
   "outputs": [],
   "source": []
  },
  {
   "cell_type": "code",
   "execution_count": null,
   "metadata": {},
   "outputs": [],
   "source": []
  }
 ],
 "metadata": {
  "kernelspec": {
   "display_name": "PyCharm (zenva_machine_learning_mini_degree)",
   "language": "python",
   "name": "pycharm-804c2db9"
  },
  "language_info": {
   "codemirror_mode": {
    "name": "ipython",
    "version": 3
   },
   "file_extension": ".py",
   "mimetype": "text/x-python",
   "name": "python",
   "nbconvert_exporter": "python",
   "pygments_lexer": "ipython3",
   "version": "3.8.0"
  }
 },
 "nbformat": 4,
 "nbformat_minor": 1
}

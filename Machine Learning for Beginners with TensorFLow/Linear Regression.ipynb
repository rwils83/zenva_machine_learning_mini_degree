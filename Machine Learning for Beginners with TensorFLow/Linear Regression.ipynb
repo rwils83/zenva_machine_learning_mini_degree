{
 "cells": [
  {
   "cell_type": "code",
   "execution_count": 6,
   "metadata": {},
   "outputs": [
    {
     "data": {
      "text/plain": [
       "<matplotlib.collections.PathCollection at 0x242ba2337f0>"
      ]
     },
     "execution_count": 6,
     "metadata": {},
     "output_type": "execute_result"
    },
    {
     "data": {
      "image/png": "[encoded data removed]",
      "text/plain": [
       "<Figure size 432x288 with 1 Axes>"
      ]
     },
     "metadata": {
      "needs_background": "light"
     },
     "output_type": "display_data"
    }
   ],
   "source": [
    "import tensorflow as tf\n",
    "import matplotlib.pyplot as plt\n",
    "import numpy as np\n",
    "\n",
    "# Part 1 Creating the data\n",
    "m = 2\n",
    "b = 0.5\n",
    "x = np.linspace(0,4, 100)\n",
    "y = m * x + b + np.random.randn(*x.shape)\n",
    "plt.scatter(x, y)\n"
   ]
  },
  {
   "cell_type": "code",
   "execution_count": 7,
   "metadata": {},
   "outputs": [],
   "source": [
    "\n",
    "class Model:\n",
    "    def __init__(self):\n",
    "        self.weight = tf.Variable(10.0)\n",
    "        self.bias = tf.Variable(10.0)\n",
    "        # Part 3 Below\n",
    "    def __call__(self, x):\n",
    "        return self.weight * x + self.bias\n",
    "\n",
    "\n",
    "\n",
    "\n",
    "# Part 4 Loss Function\n",
    "def calculate_loss(y_actual, y_output):\n",
    "    return tf.reduce_mean(tf.square(y_actual - y_output))\n",
    "\n",
    "\n",
    "\n",
    "# Part 5 Training \n",
    "# Build the training loop\n",
    "# Train the model to adjust the weights and biases\n",
    "# Doing from scratch, normally will not\n",
    "def train(model, x, y, learning_rate):\n",
    "    # Higher learning_rate faster, but less fine tuning\n",
    "    # Lower learning_rate slower, more fine tuning\n",
    "    with tf.GradientTape() as gt:\n",
    "        y_output = model(x)\n",
    "        loss = calculate_loss(y, y_output)\n",
    "        \n",
    "    new_weight, new_bias = gt.gradient(loss, [model.weight, model.bias])\n",
    "    model.weight.assign_sub(new_weight * learning_rate)\n",
    "    model.bias.assign_sub(new_bias * learning_rate)\n"
   ]
  },
  {
   "cell_type": "code",
   "execution_count": 8,
   "metadata": {},
   "outputs": [
    {
     "name": "stdout",
     "output_type": "stream",
     "text": [
      "2.0870314\n",
      "0.40398532\n"
     ]
    },
    {
     "data": {
      "text/plain": [
       "<matplotlib.collections.PathCollection at 0x242ba2a7640>"
      ]
     },
     "execution_count": 8,
     "metadata": {},
     "output_type": "execute_result"
    },
    {
     "data": {
      "image/png": "[encoded data removed]",
      "text/plain": [
       "<Figure size 432x288 with 1 Axes>"
      ]
     },
     "metadata": {
      "needs_background": "light"
     },
     "output_type": "display_data"
    }
   ],
   "source": [
    "\n",
    "\n",
    "\n",
    "# Part 6 Actually building the training loop\n",
    "\n",
    "model = Model()\n",
    "epochs = 100\n",
    "learning_rate = 0.15\n",
    "for epoch in range(epochs):\n",
    "    y_output = model(x)\n",
    "    loss = calculate_loss(y, y_output)\n",
    "   # print(f\"Epoch: {epoch}, loss: {loss.numpy()}\")\n",
    "    train(model, x, y, learning_rate)\n",
    "\n",
    "\n",
    "# Part 7 Testing and Evaluating\n",
    "print(model.weight.numpy())\n",
    "print(model.bias.numpy())\n",
    "\n",
    "new_x = np.linspace(0,4,100)\n",
    "new_y = model.weight.numpy() * new_x * model.bias.numpy()\n",
    "plt.scatter(new_x,new_y)\n",
    "plt.scatter(x,y)\n",
    "\n",
    "\n",
    "\n",
    "\n"
   ]
  },
  {
   "cell_type": "code",
   "execution_count": null,
   "metadata": {},
   "outputs": [],
   "source": []
  }
 ],
 "metadata": {
  "kernelspec": {
   "display_name": "PyCharm (zenva_machine_learning_mini_degree)",
   "language": "python",
   "name": "pycharm-804c2db9"
  },
  "language_info": {
   "codemirror_mode": {
    "name": "ipython",
    "version": 3
   },
   "file_extension": ".py",
   "mimetype": "text/x-python",
   "name": "python",
   "nbconvert_exporter": "python",
   "pygments_lexer": "ipython3",
   "version": "3.8.0"
  },
  "pycharm": {
   "stem_cell": {
    "cell_type": "raw",
    "metadata": {
     "collapsed": false
    },
    "source": [
     "\n",
     "\n"
    ]
   }
  }
 },
 "nbformat": 4,
 "nbformat_minor": 1
}
